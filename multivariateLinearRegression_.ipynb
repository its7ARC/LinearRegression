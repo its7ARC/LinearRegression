{
 "cells": [
  {
   "cell_type": "markdown",
   "metadata": {},
   "source": [
    "### Multivariate linear regression"
   ]
  },
  {
   "cell_type": "code",
   "execution_count": 112,
   "metadata": {},
   "outputs": [],
   "source": [
    "import numpy as np\n",
    "import pandas as pd\n",
    "import matplotlib.pyplot as plt"
   ]
  },
  {
   "cell_type": "code",
   "execution_count": 113,
   "metadata": {},
   "outputs": [],
   "source": [
    "from sklearn.datasets import load_boston"
   ]
  },
  {
   "cell_type": "code",
   "execution_count": 114,
   "metadata": {},
   "outputs": [],
   "source": [
    "dataset = load_boston()"
   ]
  },
  {
   "cell_type": "code",
   "execution_count": 115,
   "metadata": {},
   "outputs": [
    {
     "name": "stdout",
     "output_type": "stream",
     "text": [
      "(506, 13)\n",
      "(506,)\n",
      "['CRIM' 'ZN' 'INDUS' 'CHAS' 'NOX' 'RM' 'AGE' 'DIS' 'RAD' 'TAX' 'PTRATIO'\n",
      " 'B' 'LSTAT']\n"
     ]
    }
   ],
   "source": [
    "print(dataset.data.shape)\n",
    "print(dataset.target.shape)\n",
    "print(dataset.feature_names)"
   ]
  },
  {
   "cell_type": "code",
   "execution_count": 116,
   "metadata": {},
   "outputs": [],
   "source": [
    "x = dataset.data\n",
    "y = dataset.target"
   ]
  },
  {
   "cell_type": "code",
   "execution_count": 117,
   "metadata": {},
   "outputs": [
    {
     "name": "stdout",
     "output_type": "stream",
     "text": [
      "(506, 14)\n"
     ]
    }
   ],
   "source": [
    "N_SAMPLES = x.shape[0]\n",
    "N_FEATURES = x.shape[1] + 1\n",
    "\n",
    "#Normalisation    ->Very important to avoid extremely large data\n",
    "for i in range(x.shape[1]):\n",
    "    x[:,i] = (x[:,i] - x[:,i].mean())\n",
    "    x[:,i] /= x[:,i].std()\n",
    "\n",
    "x = np.append(np.ones((N_SAMPLES,1)),x,axis = 1)\n",
    "print(x.shape)"
   ]
  },
  {
   "cell_type": "code",
   "execution_count": null,
   "metadata": {},
   "outputs": [],
   "source": []
  },
  {
   "cell_type": "code",
   "execution_count": 121,
   "metadata": {},
   "outputs": [],
   "source": [
    "def predict(x,theta):\n",
    "    return np.dot(x,theta)\n",
    "\n",
    "def gradient(x,y,theta):\n",
    "    grad = []\n",
    "    for i in range(N_FEATURES):\n",
    "        g = np.mean(((predict(x,theta) - y)*x[:,i].reshape((-1,1))), axis = 0)\n",
    "        grad.append(g)\n",
    "    grad = np.array(grad)\n",
    "    grad = grad.reshape((-1,1))\n",
    "    return grad\n",
    "\n",
    "def optimize(x,y,EPOCHS,LEARNING_RATE):\n",
    "    loss = []\n",
    "    y = y.reshape((-1,1))\n",
    "    theta = np.zeros((N_FEATURES,1))\n",
    "    for itr in range(EPOCHS):\n",
    "        grad = gradient(x,y,theta)\n",
    "        dTheta = LEARNING_RATE * grad\n",
    "        theta -= dTheta\n",
    "        loss.append(np.mean((y - predict(x,theta))**2, axis = 0))\n",
    "    return theta,loss\n",
    "    "
   ]
  },
  {
   "cell_type": "code",
   "execution_count": 128,
   "metadata": {},
   "outputs": [],
   "source": [
    "theta,loss = optimize(x,y,200,0.05)"
   ]
  },
  {
   "cell_type": "code",
   "execution_count": 129,
   "metadata": {},
   "outputs": [
    {
     "data": {
      "text/plain": [
       "[<matplotlib.lines.Line2D at 0x7fd6723a8b50>]"
      ]
     },
     "execution_count": 129,
     "metadata": {},
     "output_type": "execute_result"
    },
    {
     "data": {
      "image/png": "[encoded data removed]",
      "text/plain": [
       "<Figure size 576x396 with 1 Axes>"
      ]
     },
     "metadata": {},
     "output_type": "display_data"
    }
   ],
   "source": [
    "plt.style.use('seaborn')\n",
    "plt.figure()\n",
    "plt.suptitle('Multivariate Linear Regression')\n",
    "plt.xlabel('Epochs')\n",
    "plt.ylabel('loss')\n",
    "plt.plot(loss)"
   ]
  },
  {
   "cell_type": "code",
   "execution_count": 107,
   "metadata": {},
   "outputs": [],
   "source": []
  }
 ],
 "metadata": {
  "kernelspec": {
   "display_name": "Python 3",
   "language": "python",
   "name": "python3"
  },
  "language_info": {
   "codemirror_mode": {
    "name": "ipython",
    "version": 3
   },
   "file_extension": ".py",
   "mimetype": "text/x-python",
   "name": "python",
   "nbconvert_exporter": "python",
   "pygments_lexer": "ipython3",
   "version": "3.7.4"
  }
 },
 "nbformat": 4,
 "nbformat_minor": 2
}
